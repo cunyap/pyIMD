{
 "cells": [
  {
   "cell_type": "markdown",
   "metadata": {},
   "source": [
    "### pyIMD example IPython/Jupyter notebook"
   ]
  },
  {
   "cell_type": "code",
   "execution_count": 11,
   "metadata": {},
   "outputs": [],
   "source": [
    "from pyIMD.imd import InertialMassDetermination"
   ]
  },
  {
   "cell_type": "code",
   "execution_count": 12,
   "metadata": {},
   "outputs": [
    {
     "name": "stderr",
     "output_type": "stream",
     "text": [
      "2019-03-24 22:05:11 - pyIMD.imd - Object constructed successfully\n"
     ]
    }
   ],
   "source": [
    "imd = InertialMassDetermination()"
   ]
  },
  {
   "cell_type": "code",
   "execution_count": 13,
   "metadata": {},
   "outputs": [],
   "source": [
    "file_path1 = \"../data/pll/20170712_RSN_3_B\"\n",
    "file_path2 = \"../data/pll/20170712_RSN_3_A\"\n",
    "file_path3 = \"../data/pll/20170712_RSN_3_A_long_term.tdms\""
   ]
  },
  {
   "cell_type": "code",
   "execution_count": 14,
   "metadata": {},
   "outputs": [],
   "source": [
    "imd.create_pyimd_project(file_path1, file_path2, file_path3, '\\t', 23, 'PLL', figure_height=40,\n",
    "                         figure_unit='cm',initial_parameter_guess=[70.0, 2, 0.0, 0.0], \n",
    "                         upper_parameter_bounds=[100.0, 5, 3.0, 3.0], spring_constant=1.05, \n",
    "                         cell_position=3.23, cantilever_length=59.84, figure_format='png',\n",
    "                         correct_for_frequency_offset=True, frequency_offset_n_measurements_used=15)"
   ]
  },
  {
   "cell_type": "code",
   "execution_count": 15,
   "metadata": {},
   "outputs": [
    {
     "name": "stderr",
     "output_type": "stream",
     "text": [
      "2019-03-24 22:05:12 - pyIMD.imd - Start reading all files\n",
      "2019-03-24 22:06:32 - pyIMD.imd - Done reading all files\n",
      "2019-03-24 22:06:32 - pyIMD.imd - Done converting units\n",
      "2019-03-24 22:06:33 - pyIMD.imd - Done with pre start no cell resonance frequency calculation\n",
      "2019-03-24 22:06:34 - pyIMD.imd - Done with pre start with cell resonance frequency calculation\n",
      "2019-03-24 22:06:36 - pyIMD.imd - Done with pre start frequency shift figure generation\n",
      "2019-03-24 22:06:36 - pyIMD.imd - Offset calculation result: -0.10173519457150339\n",
      "100%|██████████| 692625/692625 [00:21<00:00, 32255.79it/s]\n",
      "2019-03-24 22:06:57 - pyIMD.imd - Start writing figure to disk\n",
      "2019-03-24 22:08:50 - pyIMD.imd - Done writing figure to disk\n",
      "2019-03-24 22:08:50 - pyIMD.imd - Start writing data to disk\n",
      "2019-03-24 22:08:54 - pyIMD.imd - Done writing data to disk\n",
      "2019-03-24 22:08:54 - pyIMD.imd - Done with all calculations\n"
     ]
    }
   ],
   "source": [
    "imd.run_inertial_mass_determination()"
   ]
  },
  {
   "cell_type": "markdown",
   "metadata": {},
   "source": [
    "The **run_intertial_mass_determination()** method generates automatically figures of the curve fitting for the per pre experiment data with and without a cell attached to the cantilever. A combined figure illustrating the shift in the phase response and the function fits and the resulting calculated cell mass of the long term measurement data."
   ]
  },
  {
   "cell_type": "markdown",
   "metadata": {},
   "source": [
    "#### Show resulting plots\n",
    "* Shift in the phase response with and without cell attached to the cantilever and the corresponding function fit\n",
    "![Phase response shift](../data/pll/PreStartFrequencyShift.png)\n",
    "\n",
    "* Final result of the mass calculation for the long term data set\n",
    "![Calculated cell mass](../data/pll/CalculatedCellMass.png)\n",
    "      "
   ]
  },
  {
   "cell_type": "code",
   "execution_count": null,
   "metadata": {},
   "outputs": [],
   "source": []
  }
 ],
 "metadata": {
  "kernelspec": {
   "display_name": "Python 3",
   "language": "python",
   "name": "python3"
  },
  "language_info": {
   "codemirror_mode": {
    "name": "ipython",
    "version": 3
   },
   "file_extension": ".py",
   "mimetype": "text/x-python",
   "name": "python",
   "nbconvert_exporter": "python",
   "pygments_lexer": "ipython3",
   "version": "3.6.7"
  }
 },
 "nbformat": 4,
 "nbformat_minor": 1
}
